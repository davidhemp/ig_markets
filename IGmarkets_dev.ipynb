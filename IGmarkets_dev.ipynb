{
 "cells": [
  {
   "cell_type": "code",
   "execution_count": 1,
   "metadata": {
    "collapsed": false
   },
   "outputs": [],
   "source": [
    "import json\n",
    "import requests\n",
    "import matplotlib.pyplot as plt\n",
    "import datetime\n",
    "\n",
    "import ticker\n",
    "import credentials as cred\n",
    "\n",
    "%matplotlib inline"
   ]
  },
  {
   "cell_type": "code",
   "execution_count": 2,
   "metadata": {
    "collapsed": false
   },
   "outputs": [
    {
     "data": {
      "text/plain": [
       "'2401ae37d6a435a89c9218f8e37ede6ffaccda23c320d8aaee5891c815da0f4901111'"
      ]
     },
     "execution_count": 2,
     "metadata": {},
     "output_type": "execute_result"
    }
   ],
   "source": [
    "url = \"https://demo-api.ig.com/gateway/deal/session\"\n",
    "headers = {\"X-IG-API-KEY\": cred.api_key}\n",
    "headers['Version'] = \"2\"\n",
    "payload = {\"identifier\": cred.username, \"password\": cred.password}\n",
    "r = requests.post(url, headers = headers, json = payload)\n",
    "r.headers['CST']"
   ]
  },
  {
   "cell_type": "code",
   "execution_count": 2,
   "metadata": {
    "collapsed": false,
    "scrolled": true
   },
   "outputs": [
    {
     "data": {
      "text/plain": [
       "{'CST': '59e2007e4bef3fcf717e1239962b3c2e45ead1c9bfa3e6218dd549dff054f12601113',\n",
       " 'X-IG-API-KEY': '1f4a7f4278c35d01ce561326abdd2d7433fee8f4',\n",
       " 'X-SECURITY-TOKEN': '7fabdb3dccb0d4c6ae24dfd2cb4ca12a76570bef769a0be1cdd2d8dd9e2ef99f01112',\n",
       " 'version': 2}"
      ]
     },
     "execution_count": 2,
     "metadata": {},
     "output_type": "execute_result"
    }
   ],
   "source": [
    "client = ticker.Client(ticker.cred.username, ticker.cred.password, ticker.cred.api_key)\n",
    "client.headers"
   ]
  },
  {
   "cell_type": "code",
   "execution_count": 3,
   "metadata": {
    "collapsed": false
   },
   "outputs": [
    {
     "name": "stdout",
     "output_type": "stream",
     "text": [
      "FTSE 100 Cash       : 7428.3/7426.3 High:7433.3 Low:7417.3 %-0.03 19:28:49\n"
     ]
    }
   ],
   "source": [
    "data = client.display_from_epic(\"IX.D.FTSE.CFD.IP\")"
   ]
  },
  {
   "cell_type": "code",
   "execution_count": null,
   "metadata": {
    "collapsed": false,
    "scrolled": false
   },
   "outputs": [],
   "source": [
    "client.headers['version'] = 1\n",
    "r = requests.get(client.watchlists_url, headers=client.headers)\n",
    "json.loads(r.content.decode())['watchlists']\n",
    "# watchlists = client.get_watchlists()\n",
    "# print(watchlists)"
   ]
  },
  {
   "cell_type": "code",
   "execution_count": 4,
   "metadata": {
    "collapsed": false
   },
   "outputs": [
    {
     "data": {
      "image/png": "[encoded data removed]",
      "text/plain": [
       "<matplotlib.figure.Figure at 0xc52eda18d0>"
      ]
     },
     "metadata": {},
     "output_type": "display_data"
    }
   ],
   "source": [
    "data = client.get_history(epic=\"IX.D.FTSE.IFM.IP\", start_date=\"2017-03-20T12:30:00\", end_date=\"2017-03-20T17:30:00\")\n",
    "plt.plot(data[0]['time'], data[0]['close'])\n",
    "plt.show()"
   ]
  },
  {
   "cell_type": "code",
   "execution_count": 16,
   "metadata": {
    "collapsed": false
   },
   "outputs": [
    {
     "data": {
      "text/plain": [
       "<matplotlib.figure.Figure at 0xc531032080>"
      ]
     },
     "metadata": {},
     "output_type": "display_data"
    }
   ],
   "source": [
    "import matplotlib.patches as patches\n",
    "from matplotlib.lines import Line2D\n",
    "\n",
    "fig = plt.figure()\n",
    "ax.add_patch(patches.Rectangle(xy=(0,0), width=1, height=1))\n",
    "plt.show()"
   ]
  },
  {
   "cell_type": "code",
   "execution_count": 8,
   "metadata": {
    "collapsed": false
   },
   "outputs": [
    {
     "ename": "AttributeError",
     "evalue": "module 'matplotlib' has no attribute 'mpl_finance'",
     "output_type": "error",
     "traceback": [
      "\u001b[1;31m---------------------------------------------------------------------------\u001b[0m",
      "\u001b[1;31mAttributeError\u001b[0m                            Traceback (most recent call last)",
      "\u001b[1;32m<ipython-input-8-4feda7e09f55>\u001b[0m in \u001b[0;36m<module>\u001b[1;34m()\u001b[0m\n\u001b[1;32m----> 1\u001b[1;33m \u001b[0mmatplotlib\u001b[0m\u001b[1;33m.\u001b[0m\u001b[0mmpl_finance\u001b[0m\u001b[1;33m\u001b[0m\u001b[0m\n\u001b[0m",
      "\u001b[1;31mAttributeError\u001b[0m: module 'matplotlib' has no attribute 'mpl_finance'"
     ]
    }
   ],
   "source": [
    "matplotlib.mpl_finance"
   ]
  },
  {
   "cell_type": "code",
   "execution_count": null,
   "metadata": {
    "collapsed": true
   },
   "outputs": [],
   "source": []
  }
 ],
 "metadata": {
  "kernelspec": {
   "display_name": "Python 3",
   "language": "python",
   "name": "python3"
  },
  "language_info": {
   "codemirror_mode": {
    "name": "ipython",
    "version": 3
   },
   "file_extension": ".py",
   "mimetype": "text/x-python",
   "name": "python",
   "nbconvert_exporter": "python",
   "pygments_lexer": "ipython3",
   "version": "3.5.1"
  }
 },
 "nbformat": 4,
 "nbformat_minor": 0
}
